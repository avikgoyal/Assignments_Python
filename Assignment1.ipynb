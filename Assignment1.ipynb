{
  "nbformat": 4,
  "nbformat_minor": 0,
  "metadata": {
    "colab": {
      "provenance": [],
      "authorship_tag": "ABX9TyOHZ/rXYmbvXTnM9uVncKLU",
      "include_colab_link": true
    },
    "kernelspec": {
      "name": "python3",
      "display_name": "Python 3"
    },
    "language_info": {
      "name": "python"
    }
  },
  "cells": [
    {
      "cell_type": "markdown",
      "metadata": {
        "id": "view-in-github",
        "colab_type": "text"
      },
      "source": [
        "<a href=\"https://colab.research.google.com/github/avikgoyal/Assignments_Python/blob/main/Assignment1.ipynb\" target=\"_parent\"><img src=\"https://colab.research.google.com/assets/colab-badge.svg\" alt=\"Open In Colab\"/></a>"
      ]
    },
    {
      "cell_type": "code",
      "execution_count": null,
      "metadata": {
        "id": "fo2UL6lzixeg"
      },
      "outputs": [],
      "source": []
    },
    {
      "cell_type": "markdown",
      "source": [
        ". L is a list defined as L= [11, 12, 13, 14].\n",
        "(i) WAP to add 50 and 60 to L. "
      ],
      "metadata": {
        "id": "uYyZkrmlize1"
      }
    },
    {
      "cell_type": "code",
      "source": [
        "L=[11,12,13,14]\n",
        "L.append(50)\n",
        "L.append(60)\n",
        "print(\"final list =\",L)\n",
        "del L[0]\n",
        "print(\" after deletion, list =\",L)\n",
        "del L[1]\n",
        "print(\"after deletion, list =\",L)\n",
        "L.sort()\n",
        "print(\"ascending list =\",L)\n",
        "L.sort(reverse=True)\n",
        "print(\" descending list =\",L)\n",
        "print(\"list is\",13 in L)\n",
        "if (13 in L)==True:\n",
        "  print(\"present\")\n",
        "else:\n",
        "  print(\"not present\")\n",
        "\n",
        "print(\" length is\",len(L))\n",
        "print(\"sum is \",sum(L))\n",
        "def oddoreven(n):\n",
        " if(n%2==0):\n",
        "  return 0\n",
        " else: \n",
        "  return 1\n",
        "summ=0\n",
        "for n in L:\n",
        "  if (oddoreven(n)==0):\n",
        "    \n",
        "    summ=summ+n\n",
        "print(summ)\n",
        "\n",
        "def prime(x):\n",
        "\n",
        "  for i in range(2,x//2+1):\n",
        "    if x%i == 0:\n",
        "      return 0\n",
        "    else:\n",
        "      return 1\n",
        "summm=0\n",
        "for x in L:\n",
        "  if (prime(x)==0):\n",
        "    \n",
        "    summm=summm+n\n",
        "print(summm)\n",
        "L.clear()\n",
        "del L\n",
        "      \n",
        "\n",
        "     \n",
        "\n",
        "\n",
        "  \n",
        "  \n",
        " \n",
        "  \n"
      ],
      "metadata": {
        "colab": {
          "base_uri": "https://localhost:8080/"
        },
        "id": "R59wmEmZi_9b",
        "outputId": "aacc1890-daac-48c2-825d-2512be073534"
      },
      "execution_count": null,
      "outputs": [
        {
          "output_type": "stream",
          "name": "stdout",
          "text": [
            "final list = [11, 12, 13, 14, 50, 60]\n",
            " after deletion, list = [12, 13, 14, 50, 60]\n",
            "after deletion, list = [12, 14, 50, 60]\n",
            "ascending list = [12, 14, 50, 60]\n",
            " descending list = [60, 50, 14, 12]\n",
            "list is False\n",
            "not present\n",
            " length is 4\n",
            "sum is  136\n",
            "136\n",
            "48\n"
          ]
        }
      ]
    },
    {
      "cell_type": "markdown",
      "source": [
        "D is a dictionary defined as D= {1:5.6, 2:7.8, 3:6.6, 4:8.7, 5:7.7}.\n",
        "\n",
        "(i) WAP to add new entry in D; key=8 and value is 8.8\n",
        "\n",
        "(ii) WAP to remove key=2.\n",
        "\n",
        "(iii) WAP to check weather 6 key is present in D.\n",
        "\n",
        "(iv) WAP to count the number of elements present in D.\n",
        "\n",
        "(v) WAP to add all the values present D.\n",
        "\n",
        "(vi) WAP to update the value of 3 to 7.1.\n",
        "\n",
        "(vii) WAP to clear the dictionary.\n",
        "\n"
      ],
      "metadata": {
        "id": "-FWYSznTvHeJ"
      }
    },
    {
      "cell_type": "code",
      "source": [
        "D= {1:5.6, 2:7.8, 3:6.6, 4:8.7, 5:7.7}\n",
        "D[8] = 8.8\n",
        "print(D)\n",
        "del D[2]\n",
        "print(D)\n",
        "print(6 in D) \n",
        "print(len(D))\n",
        "print(sum(D))\n",
        "D[3]=7.1\n",
        "print(D)\n",
        "D.clear()"
      ],
      "metadata": {
        "colab": {
          "base_uri": "https://localhost:8080/"
        },
        "id": "9u0ghYXRvjhB",
        "outputId": "cb7af5a9-62a9-403e-f10c-2fbe521b75c2"
      },
      "execution_count": null,
      "outputs": [
        {
          "output_type": "stream",
          "name": "stdout",
          "text": [
            "{1: 5.6, 2: 7.8, 3: 6.6, 4: 8.7, 5: 7.7, 8: 8.8}\n",
            "{1: 5.6, 3: 6.6, 4: 8.7, 5: 7.7, 8: 8.8}\n",
            "False\n",
            "5\n",
            "21\n",
            "{1: 5.6, 3: 7.1, 4: 8.7, 5: 7.7, 8: 8.8}\n"
          ]
        }
      ]
    },
    {
      "cell_type": "markdown",
      "source": [
        "Q3. S1 is a set defined as S1= [10, 20, 30, 40, 50, 60].\n",
        "\n",
        " S2 is a set defined as S2= [40, 50, 60, 70, 80, 90].\n",
        "\n",
        "(i) WAP to add 55 and 66 in Set S1.\n",
        "\n",
        "(ii) WAP to remove 10 and 30 from Set S1.\n",
        "\n",
        "(iii) WAP to check whether 40 is present in S1.\n",
        "\n",
        "(iv) WAP to find the union between S1 and S2.\n",
        "\n",
        "(v) WAP to find the intersection between S1 and S2.\n",
        "\n",
        "(vi) WAP to find the S1 - S2.\n"
      ],
      "metadata": {
        "id": "NUlIXI9xyTfc"
      }
    },
    {
      "cell_type": "code",
      "source": [
        "S1= set([10, 20, 30, 40, 50, 60])\n",
        "S2= set([40, 50, 60, 70, 80, 90])\n",
        "S1.add(55)\n",
        "S1.add(30)\n",
        "print(S1)\n",
        "S1.remove(10)\n",
        "S1.remove(40)\n",
        "print(S1)\n",
        "print(40 in S1)\n",
        "print(S1.union(S2))\n",
        "print(S1.intersection(S2))\n",
        "print(S1-S2)\n",
        "\n",
        "\n"
      ],
      "metadata": {
        "colab": {
          "base_uri": "https://localhost:8080/"
        },
        "id": "O9382QDdye7i",
        "outputId": "b352f14c-ed7c-4f93-c09a-d4d42a8d43e2"
      },
      "execution_count": null,
      "outputs": [
        {
          "output_type": "stream",
          "name": "stdout",
          "text": [
            "{40, 10, 50, 20, 55, 60, 30}\n",
            "{50, 20, 55, 60, 30}\n",
            "False\n",
            "{70, 40, 80, 50, 20, 55, 90, 60, 30}\n",
            "{50, 60}\n",
            "{20, 30, 55}\n"
          ]
        }
      ]
    },
    {
      "cell_type": "markdown",
      "source": [
        "Q4. Write the following program.\n",
        "\n",
        "(i) WAP to print 100 random strings whose length between 6 and 8.\n",
        "\n",
        "(ii) WAP to print all prime numbers between 600 and 800.\n",
        "\n",
        "(iii) WAP to print all numbers between 100 and 1000 that are divisible by 7 and 9.\n"
      ],
      "metadata": {
        "id": "nQMbiiNW0ow1"
      }
    },
    {
      "cell_type": "code",
      "source": [],
      "metadata": {
        "id": "AxitXfPt0s87"
      },
      "execution_count": null,
      "outputs": []
    }
  ]
}